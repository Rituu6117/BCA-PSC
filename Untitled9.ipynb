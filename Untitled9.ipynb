{
 "cells": [
  {
   "cell_type": "markdown",
   "id": "3b0ca1e3-7cea-4f77-8da0-4bac64677426",
   "metadata": {},
   "source": [
    "# s = \"this is My First Python programming class and i am learNING python string and its function\" 1 . Try to extract data from index one to index 300 with a jump of 3 2. Try to reverse a string without using reverse function 3.  string in uppercase 4. try to convert the whole string into lower case 5 . Try to capitalize the whole string 6 . Write a diference between isalnum() and isalpha() 7. Try to give an example of expand tab 8 . Give an example of strip , lstrip and rstrip 9. Replace a string charecter by another charector by taking your own example \"Your Name\" 10 . Try to give a defination of string center function with and exmple 11 . Write your own definition of compiler and interpretor without copy paste form internet in your own language 12 . Python is a interpreted of compiled language give a clear ans with your understanding 13 . Try to write a usecase of python with your understanding ."
   ]
  },
  {
   "cell_type": "code",
   "execution_count": 18,
   "id": "d24d9de4-e693-45cc-923f-bbf421a5dab7",
   "metadata": {},
   "outputs": [],
   "source": [
    "s = \"this is My First Python programming class and i am learNING python string and its function\""
   ]
  },
  {
   "cell_type": "code",
   "execution_count": 19,
   "id": "c2a7f50c-f735-4a5e-a086-2a4f0b878dba",
   "metadata": {},
   "outputs": [],
   "source": [
    "#Try to extract data from index one to index 300 with a jump of 3"
   ]
  },
  {
   "cell_type": "code",
   "execution_count": 20,
   "id": "b990bd85-e81a-4a59-b62f-40aa8da6bcf8",
   "metadata": {},
   "outputs": [
    {
     "data": {
      "text/plain": [
       "'h   r tnrrmglsnimeNGyosi dtfco'"
      ]
     },
     "execution_count": 20,
     "metadata": {},
     "output_type": "execute_result"
    }
   ],
   "source": [
    "s[1:301:3]"
   ]
  },
  {
   "cell_type": "code",
   "execution_count": 24,
   "id": "45b5d128-2de1-4c0b-ac3a-4c00c66c90da",
   "metadata": {},
   "outputs": [],
   "source": [
    "#Try to reverse a string without using reverse function "
   ]
  },
  {
   "cell_type": "code",
   "execution_count": 25,
   "id": "21da070d-2371-4c8c-9aa9-6a94915b3d9b",
   "metadata": {},
   "outputs": [
    {
     "data": {
      "text/plain": [
       "'noitcnuf sti dna gnirts nohtyp GNINrael ma i dna ssalc gnimmargorp nohtyP tsriF yM si siht'"
      ]
     },
     "execution_count": 25,
     "metadata": {},
     "output_type": "execute_result"
    }
   ],
   "source": [
    "s[::-1]"
   ]
  },
  {
   "cell_type": "markdown",
   "id": "ac88a658-5be5-49cf-ac03-c385e114a745",
   "metadata": {},
   "source": [
    "#Try to split a string after conversion of entire string in uppercase"
   ]
  },
  {
   "cell_type": "code",
   "execution_count": 29,
   "id": "20b558d1-ac41-40e3-8b8f-e1c099ba516f",
   "metadata": {},
   "outputs": [
    {
     "data": {
      "text/plain": [
       "'THIS IS MY FIRST PYTHON PROGRAMMING CLASS AND I AM LEARNING PYTHON STRING AND ITS FUNCTION'"
      ]
     },
     "execution_count": 29,
     "metadata": {},
     "output_type": "execute_result"
    }
   ],
   "source": [
    "s.upper()"
   ]
  },
  {
   "cell_type": "code",
   "execution_count": 30,
   "id": "e2ff9c87-bf33-45ec-9fec-400c93c08f75",
   "metadata": {},
   "outputs": [
    {
     "data": {
      "text/plain": [
       "['THIS',\n",
       " 'IS',\n",
       " 'MY',\n",
       " 'FIRST',\n",
       " 'PYTHON',\n",
       " 'PROGRAMMING',\n",
       " 'CLASS',\n",
       " 'AND',\n",
       " 'I',\n",
       " 'AM',\n",
       " 'LEARNING',\n",
       " 'PYTHON',\n",
       " 'STRING',\n",
       " 'AND',\n",
       " 'ITS',\n",
       " 'FUNCTION']"
      ]
     },
     "execution_count": 30,
     "metadata": {},
     "output_type": "execute_result"
    }
   ],
   "source": [
    "s.upper() .split()"
   ]
  },
  {
   "cell_type": "markdown",
   "id": "b32f6f23-0195-4650-8b94-33f07b8f5e31",
   "metadata": {},
   "source": [
    "4. try to convert the whole string into lower case"
   ]
  },
  {
   "cell_type": "code",
   "execution_count": 31,
   "id": "ce17f933-b3fa-41fb-ac61-d672a9d588c5",
   "metadata": {},
   "outputs": [
    {
     "data": {
      "text/plain": [
       "'this is my first python programming class and i am learning python string and its function'"
      ]
     },
     "execution_count": 31,
     "metadata": {},
     "output_type": "execute_result"
    }
   ],
   "source": [
    "s.lower()"
   ]
  },
  {
   "cell_type": "markdown",
   "id": "39b5f26f-fcfd-4565-84e2-2f9a330aaf13",
   "metadata": {},
   "source": [
    "5 . Try to capitalize the whole string"
   ]
  },
  {
   "cell_type": "code",
   "execution_count": 34,
   "id": "e0936bea-58b1-40b4-b49c-770572989a43",
   "metadata": {},
   "outputs": [
    {
     "data": {
      "text/plain": [
       "'This is my first python programming class and i am learning python string and its function'"
      ]
     },
     "execution_count": 34,
     "metadata": {},
     "output_type": "execute_result"
    }
   ],
   "source": [
    "s.capitalize()"
   ]
  },
  {
   "cell_type": "markdown",
   "id": "6aa240f6-b41c-42e2-8d0e-49aeabaa853a",
   "metadata": {},
   "source": [
    "6 . Write a diference between isalnum() and isalpha() "
   ]
  },
  {
   "cell_type": "code",
   "execution_count": 38,
   "id": "57eb18e8-0baa-4a18-ab3d-d5183ca7a21c",
   "metadata": {},
   "outputs": [
    {
     "data": {
      "text/plain": [
       "False"
      ]
     },
     "execution_count": 38,
     "metadata": {},
     "output_type": "execute_result"
    }
   ],
   "source": [
    "s.isalnum()"
   ]
  },
  {
   "cell_type": "code",
   "execution_count": 39,
   "id": "aeda8199-0202-452c-9971-f0256c718c44",
   "metadata": {},
   "outputs": [
    {
     "data": {
      "text/plain": [
       "<function str.isalpha()>"
      ]
     },
     "execution_count": 39,
     "metadata": {},
     "output_type": "execute_result"
    }
   ],
   "source": [
    "s.isalpha"
   ]
  },
  {
   "cell_type": "code",
   "execution_count": null,
   "id": "17ae9dbe-fbf2-4cd3-8c42-6788127d5d82",
   "metadata": {},
   "outputs": [],
   "source": []
  }
 ],
 "metadata": {
  "kernelspec": {
   "display_name": "Python 3 (ipykernel)",
   "language": "python",
   "name": "python3"
  },
  "language_info": {
   "codemirror_mode": {
    "name": "ipython",
    "version": 3
   },
   "file_extension": ".py",
   "mimetype": "text/x-python",
   "name": "python",
   "nbconvert_exporter": "python",
   "pygments_lexer": "ipython3",
   "version": "3.12.4"
  }
 },
 "nbformat": 4,
 "nbformat_minor": 5
}
