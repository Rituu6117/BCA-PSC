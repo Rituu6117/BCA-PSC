{
 "cells": [
  {
   "cell_type": "code",
   "execution_count": 7,
   "id": "fa22c01f-7d12-44ea-8dbc-601241dbba9d",
   "metadata": {},
   "outputs": [],
   "source": [
    "a=[]"
   ]
  },
  {
   "cell_type": "code",
   "execution_count": 9,
   "id": "8aa31c66-c8f4-430e-8893-de538c70fb2d",
   "metadata": {},
   "outputs": [
    {
     "data": {
      "text/plain": [
       "list"
      ]
     },
     "execution_count": 9,
     "metadata": {},
     "output_type": "execute_result"
    }
   ],
   "source": [
    "type(a)"
   ]
  },
  {
   "cell_type": "code",
   "execution_count": 52,
   "id": "3cb107ee-1d93-4231-924d-f7b3c91e025e",
   "metadata": {},
   "outputs": [],
   "source": [
    "a=[1,87,98, \"Rituu\", 99.9,32, True,\"Ritesh\", 678]"
   ]
  },
  {
   "cell_type": "code",
   "execution_count": 44,
   "id": "eb1025b2-dd86-4c35-ba4c-3fbcdd2a610e",
   "metadata": {},
   "outputs": [
    {
     "data": {
      "text/plain": [
       "99.9"
      ]
     },
     "execution_count": 44,
     "metadata": {},
     "output_type": "execute_result"
    }
   ],
   "source": [
    "a[-5]"
   ]
  },
  {
   "cell_type": "code",
   "execution_count": 48,
   "id": "63fe7e3d-827e-4f74-ac09-df8735f0a35b",
   "metadata": {},
   "outputs": [
    {
     "data": {
      "text/plain": [
       "float"
      ]
     },
     "execution_count": 48,
     "metadata": {},
     "output_type": "execute_result"
    }
   ],
   "source": [
    "type(a[-5])"
   ]
  },
  {
   "cell_type": "code",
   "execution_count": 49,
   "id": "e9b24fbd-075c-4bec-a768-64163a59dda0",
   "metadata": {},
   "outputs": [
    {
     "data": {
      "text/plain": [
       "1"
      ]
     },
     "execution_count": 49,
     "metadata": {},
     "output_type": "execute_result"
    }
   ],
   "source": [
    "a[0]"
   ]
  },
  {
   "cell_type": "code",
   "execution_count": 53,
   "id": "6bd58c06-013e-412b-9689-343136c06abc",
   "metadata": {},
   "outputs": [
    {
     "data": {
      "text/plain": [
       "'Ritesh'"
      ]
     },
     "execution_count": 53,
     "metadata": {},
     "output_type": "execute_result"
    }
   ],
   "source": [
    "a[-2]"
   ]
  },
  {
   "cell_type": "code",
   "execution_count": null,
   "id": "abf8dab9-9e5f-472c-974a-92be8fd22cdf",
   "metadata": {},
   "outputs": [],
   "source": []
  }
 ],
 "metadata": {
  "kernelspec": {
   "display_name": "Python 3 (ipykernel)",
   "language": "python",
   "name": "python3"
  },
  "language_info": {
   "codemirror_mode": {
    "name": "ipython",
    "version": 3
   },
   "file_extension": ".py",
   "mimetype": "text/x-python",
   "name": "python",
   "nbconvert_exporter": "python",
   "pygments_lexer": "ipython3",
   "version": "3.12.4"
  }
 },
 "nbformat": 4,
 "nbformat_minor": 5
}
