{
 "cells": [
  {
   "cell_type": "code",
   "execution_count": 1,
   "id": "641f3deb-b74d-4948-a7eb-69fe42cd324d",
   "metadata": {},
   "outputs": [],
   "source": [
    "a=2"
   ]
  },
  {
   "cell_type": "code",
   "execution_count": 3,
   "id": "ced3e86d-6c35-4001-bc4d-f11a3d0a0f57",
   "metadata": {},
   "outputs": [
    {
     "name": "stdout",
     "output_type": "stream",
     "text": [
      "2\n"
     ]
    }
   ],
   "source": [
    "print(a)\n",
    "#liabrary function or inbuilt funtion "
   ]
  },
  {
   "cell_type": "code",
   "execution_count": 4,
   "id": "f16d500f-a785-43cc-89d8-9b89415a29c3",
   "metadata": {},
   "outputs": [
    {
     "name": "stdout",
     "output_type": "stream",
     "text": [
      "Ritesh Umbraje\n"
     ]
    }
   ],
   "source": [
    "print(\"Ritesh Umbraje\")"
   ]
  },
  {
   "cell_type": "code",
   "execution_count": 6,
   "id": "87216e89-1e78-4d3c-a696-0ffd18e1a155",
   "metadata": {},
   "outputs": [],
   "source": [
    "name=\"Ritesh Umbraje\""
   ]
  },
  {
   "cell_type": "code",
   "execution_count": 7,
   "id": "934faff7-1502-4e20-8b33-664810d45fc9",
   "metadata": {},
   "outputs": [
    {
     "name": "stdout",
     "output_type": "stream",
     "text": [
      "Ritesh Umbraje\n"
     ]
    }
   ],
   "source": [
    "print(name)"
   ]
  },
  {
   "cell_type": "code",
   "execution_count": 8,
   "id": "6b811cc6-6ea2-4b3a-be54-4a436f23fdda",
   "metadata": {},
   "outputs": [
    {
     "data": {
      "text/plain": [
       "'Ritesh Umbraje'"
      ]
     },
     "execution_count": 8,
     "metadata": {},
     "output_type": "execute_result"
    }
   ],
   "source": [
    "name"
   ]
  },
  {
   "cell_type": "code",
   "execution_count": 11,
   "id": "714a0fe6-acfd-4494-85f0-207b03bb25d7",
   "metadata": {},
   "outputs": [],
   "source": [
    "a,b,c=5,4,7"
   ]
  },
  {
   "cell_type": "code",
   "execution_count": 12,
   "id": "16861d00-69ca-4cf6-84c1-98fd6e7ac567",
   "metadata": {},
   "outputs": [],
   "source": [
    "a=b=c=7"
   ]
  },
  {
   "cell_type": "code",
   "execution_count": 22,
   "id": "a55647d1-22a7-4293-bda2-63ff9ea47f81",
   "metadata": {},
   "outputs": [
    {
     "name": "stdout",
     "output_type": "stream",
     "text": [
      "7,7,7\n"
     ]
    }
   ],
   "source": [
    "print(a,b,c, sep=',')"
   ]
  },
  {
   "cell_type": "code",
   "execution_count": 24,
   "id": "67571499-3b0d-45e2-b883-980ea5518770",
   "metadata": {},
   "outputs": [
    {
     "name": "stdout",
     "output_type": "stream",
     "text": [
      "7@7@7\n"
     ]
    }
   ],
   "source": [
    "print(a,b,c, sep='@')"
   ]
  },
  {
   "cell_type": "code",
   "execution_count": 25,
   "id": "e2d1a820-8429-448d-b351-12bb51962c0f",
   "metadata": {},
   "outputs": [
    {
     "name": "stdout",
     "output_type": "stream",
     "text": [
      "7#7#7\n"
     ]
    }
   ],
   "source": [
    "print(a,b,c, sep='#')"
   ]
  },
  {
   "cell_type": "code",
   "execution_count": 29,
   "id": "a6004ba9-337b-475e-8b3e-012524ef0349",
   "metadata": {},
   "outputs": [
    {
     "name": "stdout",
     "output_type": "stream",
     "text": [
      "45 67 89\n"
     ]
    }
   ],
   "source": [
    "print(45,67,89, sep= \" \")"
   ]
  },
  {
   "cell_type": "code",
   "execution_count": 30,
   "id": "db520ef9-dbe5-4d5f-9a27-e7ec30dd602b",
   "metadata": {},
   "outputs": [
    {
     "name": "stdout",
     "output_type": "stream",
     "text": [
      "456789\n"
     ]
    }
   ],
   "source": [
    "print(45,67,89, sep= \"\")"
   ]
  },
  {
   "cell_type": "code",
   "execution_count": 35,
   "id": "4c74ff87-cf16-4519-a7e0-d35205144e71",
   "metadata": {},
   "outputs": [
    {
     "name": "stdout",
     "output_type": "stream",
     "text": [
      "Ritesh Umbraje\n",
      "Rituu Umbraje\n"
     ]
    }
   ],
   "source": [
    "print('Ritesh Umbraje')\n",
    "print('Rituu Umbraje')"
   ]
  },
  {
   "cell_type": "code",
   "execution_count": 39,
   "id": "c235ecc1-8553-42ec-9300-cf746ef17558",
   "metadata": {},
   "outputs": [
    {
     "name": "stdout",
     "output_type": "stream",
     "text": [
      "Ritesh Umbraje/tRituu Umbraje\n"
     ]
    }
   ],
   "source": [
    "print('Ritesh Umbraje' , end='/t')\n",
    "print('Rituu Umbraje')"
   ]
  },
  {
   "cell_type": "code",
   "execution_count": 43,
   "id": "453dad15-3933-4ebb-b557-4b24193c6bf2",
   "metadata": {},
   "outputs": [
    {
     "name": "stdout",
     "output_type": "stream",
     "text": [
      "Ritesh Umbraje/tSana Ansari Pathan \n",
      "Rituu Umbraje\n"
     ]
    }
   ],
   "source": [
    "print('Ritesh Umbraje' , end='/t')\n",
    "print('Sana Ansari Pathan ')\n",
    "print('Rituu Umbraje')"
   ]
  },
  {
   "cell_type": "code",
   "execution_count": 50,
   "id": "8093fe81-7f12-44b0-a4d7-1c4844a9e26e",
   "metadata": {},
   "outputs": [
    {
     "name": "stdout",
     "output_type": "stream",
     "text": [
      "Enter two Nos.\n"
     ]
    },
    {
     "name": "stdin",
     "output_type": "stream",
     "text": [
      "input the value of a 61\n",
      "input the value of b 6117\n"
     ]
    },
    {
     "name": "stdout",
     "output_type": "stream",
     "text": [
      "6178\n"
     ]
    }
   ],
   "source": [
    "# Write Code 2 Nos.\n",
    "print(\"Enter two Nos.\")\n",
    "a=int(input(\"input the value of a\"))\n",
    "b=int(input(\"input the value of b\"))\n",
    "c=a+b\n",
    "print(c)"
   ]
  },
  {
   "cell_type": "code",
   "execution_count": null,
   "id": "16c8a3ff-be6a-4ab1-9d6e-cd746ef9ef0b",
   "metadata": {},
   "outputs": [],
   "source": []
  }
 ],
 "metadata": {
  "kernelspec": {
   "display_name": "Python 3 (ipykernel)",
   "language": "python",
   "name": "python3"
  },
  "language_info": {
   "codemirror_mode": {
    "name": "ipython",
    "version": 3
   },
   "file_extension": ".py",
   "mimetype": "text/x-python",
   "name": "python",
   "nbconvert_exporter": "python",
   "pygments_lexer": "ipython3",
   "version": "3.12.4"
  }
 },
 "nbformat": 4,
 "nbformat_minor": 5
}
